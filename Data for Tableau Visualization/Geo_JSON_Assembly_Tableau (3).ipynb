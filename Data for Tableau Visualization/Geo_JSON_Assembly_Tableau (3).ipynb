{
  "cells": [
    {
      "cell_type": "code",
      "execution_count": null,
      "metadata": {
        "id": "frXTTiPkF5PE"
      },
      "outputs": [],
      "source": [
        "import pandas as pd\n",
        "import regex as re\n",
        "import json\n",
        "\n",
        "life_df = pd.read_csv(\"https://raw.githubusercontent.com/AndrewZinc/Expect_Life/main/Raw_Data/Cleaning_Completed/life_expectancy_World_Bank.csv\",)"
      ]
    },
    {
      "cell_type": "code",
      "execution_count": null,
      "metadata": {
        "id": "Y3LX3fCPRG2n"
      },
      "outputs": [],
      "source": [
        "gdp = pd.read_csv(\"https://raw.githubusercontent.com/AndrewZinc/Expect_Life/main/Clean_Data/gdp_clean.csv\")"
      ]
    },
    {
      "cell_type": "code",
      "execution_count": null,
      "metadata": {
        "id": "lBwmQjdMQcRt"
      },
      "outputs": [],
      "source": [
        "social = pd.read_csv(\"https://raw.githubusercontent.com/AndrewZinc/Expect_Life/main/Clean_Data/Cluster_Analysis_Data/country_social_security_systems-coded.csv\")"
      ]
    },
    {
      "cell_type": "code",
      "source": [
        "regions = pd.read_csv(\"https://raw.githubusercontent.com/lukes/ISO-3166-Countries-with-Regional-Codes/master/all/all.csv\")"
      ],
      "metadata": {
        "id": "o-YLaj123etF"
      },
      "execution_count": null,
      "outputs": []
    },
    {
      "cell_type": "code",
      "execution_count": null,
      "metadata": {
        "id": "3X0jhSZL1lVP"
      },
      "outputs": [],
      "source": [
        "per_cap = pd.read_csv(\"https://raw.githubusercontent.com/AndrewZinc/Expect_Life/Vivek_Project/Clean_Data/world_bank_gdp_per_capita_clean.csv%20-%20API_NY.GDP.PCAP.CD_DS2_en_csv_v2_4770417.csv\")"
      ]
    },
    {
      "cell_type": "code",
      "execution_count": null,
      "metadata": {
        "id": "21QajhwAIb8d"
      },
      "outputs": [],
      "source": [
        "alc_tob = pd.read_csv(\"https://raw.githubusercontent.com/AndrewZinc/Expect_Life/main/Clean_Data/at_clean.csv\")"
      ]
    },
    {
      "cell_type": "code",
      "execution_count": null,
      "metadata": {
        "id": "hWyPZsNQLi3Z"
      },
      "outputs": [],
      "source": [
        "alc = alc_tob.loc[alc_tob['Series Name'] == 'Total alcohol consumption per capita (liters of pure alcohol, projected estimates, 15+ years of age)']\n",
        "tob = alc_tob.loc[alc_tob['Series Name'] == 'Prevalence of current tobacco use (% of adults)']"
      ]
    },
    {
      "cell_type": "code",
      "execution_count": null,
      "metadata": {
        "id": "JHGXE3E22QAA"
      },
      "outputs": [],
      "source": [
        "master = pd.read_csv(\"https://raw.githubusercontent.com/AndrewZinc/Expect_Life/main/Clean_Data/master_country_list/country_profile_urls.csv\")\n",
        "\n",
        "# List of countries in master document\n",
        "country_list = master['country'].to_list()"
      ]
    },
    {
      "cell_type": "code",
      "execution_count": null,
      "metadata": {
        "colab": {
          "base_uri": "https://localhost:8080/"
        },
        "id": "6T8O5pnD2xEs",
        "outputId": "8dfb663b-ff39-4de7-aee1-56e0e0fc05d5"
      },
      "outputs": [
        {
          "output_type": "stream",
          "name": "stderr",
          "text": [
            "/usr/local/lib/python3.8/dist-packages/pandas/core/indexing.py:1684: SettingWithCopyWarning: \n",
            "A value is trying to be set on a copy of a slice from a DataFrame.\n",
            "Try using .loc[row_indexer,col_indexer] = value instead\n",
            "\n",
            "See the caveats in the documentation: https://pandas.pydata.org/pandas-docs/stable/user_guide/indexing.html#returning-a-view-versus-a-copy\n",
            "  self.obj[key] = infer_fill_value(value)\n",
            "/usr/local/lib/python3.8/dist-packages/pandas/core/indexing.py:1817: SettingWithCopyWarning: \n",
            "A value is trying to be set on a copy of a slice from a DataFrame.\n",
            "Try using .loc[row_indexer,col_indexer] = value instead\n",
            "\n",
            "See the caveats in the documentation: https://pandas.pydata.org/pandas-docs/stable/user_guide/indexing.html#returning-a-view-versus-a-copy\n",
            "  self._setitem_single_column(loc, value, pi)\n"
          ]
        }
      ],
      "source": [
        "# Add country code column to gdp to allow gdp figure addition to geojson file\n",
        "\n",
        "for country in country_list:\n",
        "  code_string = master.loc[master['country'] == country, 'country_code'].to_json()\n",
        "  code_name = re.search('[A-Za-z]+', code_string).group(0)\n",
        "  gdp.loc[gdp['Country Name'] == country, 'Country Code'] = code_name\n",
        "  social.loc[social['country'] == country, 'Country Code'] = code_name\n",
        "  alc.loc[alc_tob['Country Name'] == country, 'Country Code'] = code_name\n",
        "  tob.loc[alc_tob['Country Name'] == country, 'Country Code'] = code_name"
      ]
    },
    {
      "cell_type": "code",
      "execution_count": null,
      "metadata": {
        "id": "9zy_QUd_mgdP"
      },
      "outputs": [],
      "source": [
        "tob.at[1, 'Country Code'] = 'ALB'"
      ]
    },
    {
      "cell_type": "markdown",
      "metadata": {
        "id": "6B-sJM9ItukF"
      },
      "source": []
    },
    {
      "cell_type": "code",
      "execution_count": null,
      "metadata": {
        "id": "h5jRdlyOg5Oy"
      },
      "outputs": [],
      "source": [
        "# Load existing geojson point data\n",
        "with open('countries (1).geojson') as f:\n",
        "  data = json.load(f)"
      ]
    },
    {
      "cell_type": "code",
      "execution_count": null,
      "metadata": {
        "id": "i89t3EnVSQx7"
      },
      "outputs": [],
      "source": [
        "# for use with regex in order to add life expectancy data to geojson data\n",
        "import re\n",
        "\n",
        "for i in range(0,len(data['features'])):\n",
        "  country_code = data['features'][i]['properties']['ISO_A3']\n",
        "  for j in range(2000,2020):\n",
        "    try:\n",
        "      continent = regions.loc[regions['alpha-3'] == country_code, 'region'].to_json()\n",
        "      continent = re.search(':\"\\D+', continent).group(0)\n",
        "      continent = continent[2:-2]\n",
        "      data['features'][i]['properties']['continent'] = continent\n",
        "    except:\n",
        "      data['features'][i]['properties']['continent'] = ''\n",
        "    try:\n",
        "      sub_region = regions.loc[regions['alpha-3'] == country_code, 'sub-region'].to_json()\n",
        "      sub_region = re.search(':\"\\D+', sub_region).group(0)\n",
        "      sub_region = sub_region[2:-2]\n",
        "      data['features'][i]['properties']['sub-region'] = sub_region\n",
        "    except:\n",
        "      data['features'][i]['properties']['sub-region'] = ''   \n",
        "    try:\n",
        "      soc_string = social.loc[social['Country Code'] == country_code, 'system_type'].to_json()\n",
        "      soc_string = re.search(\"\\[.+\\]\", soc_string).group(0)\n",
        "      social_sys = soc_string[1:-1]\n",
        "      data['features'][i]['properties']['system'] = social_sys\n",
        "    except:\n",
        "      data['features'][i]['properties']['system'] = ''\n",
        "    yr_string = str(j)\n",
        "    data['features'][i]['properties'][yr_string] = {}\n",
        "    try:\n",
        "      expectancy = life_df.loc[life_df['Country Code'] == country_code, f'{yr_string} [YR{yr_string}]']\n",
        "      expectancy = expectancy.to_json()\n",
        "      expectancy = re.search(\"\\d\\d\\.\\d\\d\", expectancy).group(0)\n",
        "      expectancy = float(expectancy)\n",
        "      data['features'][i]['properties'][yr_string]['life_expectancy'] = expectancy\n",
        "    except:\n",
        "      data['features'][i]['properties'][yr_string]['life_expectancy'] = ''\n",
        "    try:\n",
        "      gdp_string = gdp.loc[gdp['Country Code'] == country_code, f'{yr_string}'].to_json()\n",
        "      gdp_val = float(re.search('\\d+\\.\\d+', gdp_string).group(0))\n",
        "      data['features'][i]['properties'][yr_string]['gdp'] = gdp_val\n",
        "    except:\n",
        "      data['features'][i]['properties'][yr_string]['gdp'] = ''\n",
        "    try:\n",
        "      gdp_cap_string = per_cap.loc[per_cap['Country Code'] == country_code, f'{yr_string}'].to_json()\n",
        "      gdp_cap_val = float(re.search('\\d+\\.\\d+', gdp_cap_string).group(0))\n",
        "      data['features'][i]['properties'][yr_string]['gdp_pcap'] = gdp_cap_val\n",
        "    except:\n",
        "      data['features'][i]['properties'][yr_string]['gdp'] = ''\n",
        "    try:\n",
        "      alc_string = alc.loc[alc['Country Code'] == country_code, f'{yr_string}'].to_json()\n",
        "      alc_level = float(re.search('\\d+\\.\\d+', alc_string).group(0))\n",
        "      data['features'][i]['properties'][yr_string]['alc_usage'] = alc_level\n",
        "    except:\n",
        "      data['features'][i]['properties'][yr_string]['alc_usage'] = ''\n",
        "    try:\n",
        "      tob_string = tob.loc[tob['Country Code'] == country_code, f'{yr_string}'].to_json()\n",
        "      tob_level = float(re.search('\\d+\\.\\d+', tob_string).group(0))\n",
        "      data['features'][i]['properties'][yr_string]['tob_usage'] = tob_level\n",
        "    except:\n",
        "      data['features'][i]['properties'][yr_string]['tob_usage'] = ''   \n"
      ]
    },
    {
      "cell_type": "code",
      "execution_count": null,
      "metadata": {
        "id": "ZoRbvccohF4F"
      },
      "outputs": [],
      "source": [
        "# # Write JSON file with new data\n",
        "with open('region_polygon.geojson', 'w') as f:\n",
        "   f.write(json.dumps(data))"
      ]
    }
  ],
  "metadata": {
    "colab": {
      "provenance": []
    },
    "kernelspec": {
      "display_name": "Python 3",
      "name": "python3"
    },
    "language_info": {
      "name": "python"
    }
  },
  "nbformat": 4,
  "nbformat_minor": 0
}
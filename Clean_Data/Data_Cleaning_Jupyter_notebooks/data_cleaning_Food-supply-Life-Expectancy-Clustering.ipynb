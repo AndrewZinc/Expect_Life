{
 "cells": [
  {
   "cell_type": "code",
   "execution_count": 1,
   "id": "0fdf6300",
   "metadata": {},
   "outputs": [],
   "source": [
    "# Import our dependencies\n",
    "import pandas as pd"
   ]
  },
  {
   "cell_type": "code",
   "execution_count": 2,
   "id": "0bb3fe43",
   "metadata": {},
   "outputs": [
    {
     "data": {
      "text/html": [
       "<div>\n",
       "<style scoped>\n",
       "    .dataframe tbody tr th:only-of-type {\n",
       "        vertical-align: middle;\n",
       "    }\n",
       "\n",
       "    .dataframe tbody tr th {\n",
       "        vertical-align: top;\n",
       "    }\n",
       "\n",
       "    .dataframe thead th {\n",
       "        text-align: right;\n",
       "    }\n",
       "</style>\n",
       "<table border=\"1\" class=\"dataframe\">\n",
       "  <thead>\n",
       "    <tr style=\"text-align: right;\">\n",
       "      <th></th>\n",
       "      <th>Unnamed: 0</th>\n",
       "      <th>country</th>\n",
       "      <th>daily calories (2018)</th>\n",
       "    </tr>\n",
       "  </thead>\n",
       "  <tbody>\n",
       "    <tr>\n",
       "      <th>0</th>\n",
       "      <td>18</td>\n",
       "      <td>Albania</td>\n",
       "      <td>3360</td>\n",
       "    </tr>\n",
       "    <tr>\n",
       "      <th>1</th>\n",
       "      <td>40</td>\n",
       "      <td>Algeria</td>\n",
       "      <td>3322</td>\n",
       "    </tr>\n",
       "    <tr>\n",
       "      <th>2</th>\n",
       "      <td>84</td>\n",
       "      <td>Angola</td>\n",
       "      <td>2385</td>\n",
       "    </tr>\n",
       "    <tr>\n",
       "      <th>3</th>\n",
       "      <td>106</td>\n",
       "      <td>Antigua and Barbuda</td>\n",
       "      <td>2445</td>\n",
       "    </tr>\n",
       "    <tr>\n",
       "      <th>4</th>\n",
       "      <td>128</td>\n",
       "      <td>Argentina</td>\n",
       "      <td>3307</td>\n",
       "    </tr>\n",
       "    <tr>\n",
       "      <th>...</th>\n",
       "      <td>...</td>\n",
       "      <td>...</td>\n",
       "      <td>...</td>\n",
       "    </tr>\n",
       "    <tr>\n",
       "      <th>149</th>\n",
       "      <td>3758</td>\n",
       "      <td>Venezuela</td>\n",
       "      <td>2120</td>\n",
       "    </tr>\n",
       "    <tr>\n",
       "      <th>150</th>\n",
       "      <td>3780</td>\n",
       "      <td>Vietnam</td>\n",
       "      <td>3025</td>\n",
       "    </tr>\n",
       "    <tr>\n",
       "      <th>151</th>\n",
       "      <td>3802</td>\n",
       "      <td>Yemen</td>\n",
       "      <td>2154</td>\n",
       "    </tr>\n",
       "    <tr>\n",
       "      <th>152</th>\n",
       "      <td>3824</td>\n",
       "      <td>Zambia</td>\n",
       "      <td>2002</td>\n",
       "    </tr>\n",
       "    <tr>\n",
       "      <th>153</th>\n",
       "      <td>3846</td>\n",
       "      <td>Zimbabwe</td>\n",
       "      <td>1908</td>\n",
       "    </tr>\n",
       "  </tbody>\n",
       "</table>\n",
       "<p>154 rows × 3 columns</p>\n",
       "</div>"
      ],
      "text/plain": [
       "     Unnamed: 0              country  daily calories (2018)\n",
       "0            18              Albania                   3360\n",
       "1            40              Algeria                   3322\n",
       "2            84               Angola                   2385\n",
       "3           106  Antigua and Barbuda                   2445\n",
       "4           128            Argentina                   3307\n",
       "..          ...                  ...                    ...\n",
       "149        3758            Venezuela                   2120\n",
       "150        3780              Vietnam                   3025\n",
       "151        3802                Yemen                   2154\n",
       "152        3824               Zambia                   2002\n",
       "153        3846             Zimbabwe                   1908\n",
       "\n",
       "[154 rows x 3 columns]"
      ]
     },
     "execution_count": 2,
     "metadata": {},
     "output_type": "execute_result"
    }
   ],
   "source": [
    "#  Import and read the input csv\n",
    "fsle_df = pd.read_csv('../Cluster_Analysis_Data/food_supply_life_expectancy.csv')\n",
    "#, encoding='iso-8859-1'\n",
    "fsle_df"
   ]
  },
  {
   "cell_type": "code",
   "execution_count": 4,
   "id": "35d9f446",
   "metadata": {},
   "outputs": [
    {
     "name": "stderr",
     "output_type": "stream",
     "text": [
      "C:\\Temp\\ipykernel_1432\\3427511736.py:2: FutureWarning: In a future version of pandas all arguments of DataFrame.drop except for the argument 'labels' will be keyword-only.\n",
      "  fsle_df = fsle_df.drop(['Unnamed: 0'], 1)\n"
     ]
    }
   ],
   "source": [
    "# Drop the udpated file index column\n",
    "fsle_df = fsle_df.drop(['Unnamed: 0'], 1)"
   ]
  },
  {
   "cell_type": "code",
   "execution_count": 5,
   "id": "65638b58",
   "metadata": {},
   "outputs": [
    {
     "data": {
      "text/html": [
       "<div>\n",
       "<style scoped>\n",
       "    .dataframe tbody tr th:only-of-type {\n",
       "        vertical-align: middle;\n",
       "    }\n",
       "\n",
       "    .dataframe tbody tr th {\n",
       "        vertical-align: top;\n",
       "    }\n",
       "\n",
       "    .dataframe thead th {\n",
       "        text-align: right;\n",
       "    }\n",
       "</style>\n",
       "<table border=\"1\" class=\"dataframe\">\n",
       "  <thead>\n",
       "    <tr style=\"text-align: right;\">\n",
       "      <th></th>\n",
       "      <th>country</th>\n",
       "      <th>daily calories (2018)</th>\n",
       "    </tr>\n",
       "  </thead>\n",
       "  <tbody>\n",
       "    <tr>\n",
       "      <th>0</th>\n",
       "      <td>Albania</td>\n",
       "      <td>3360</td>\n",
       "    </tr>\n",
       "    <tr>\n",
       "      <th>1</th>\n",
       "      <td>Algeria</td>\n",
       "      <td>3322</td>\n",
       "    </tr>\n",
       "    <tr>\n",
       "      <th>2</th>\n",
       "      <td>Angola</td>\n",
       "      <td>2385</td>\n",
       "    </tr>\n",
       "    <tr>\n",
       "      <th>3</th>\n",
       "      <td>Antigua and Barbuda</td>\n",
       "      <td>2445</td>\n",
       "    </tr>\n",
       "    <tr>\n",
       "      <th>4</th>\n",
       "      <td>Argentina</td>\n",
       "      <td>3307</td>\n",
       "    </tr>\n",
       "    <tr>\n",
       "      <th>...</th>\n",
       "      <td>...</td>\n",
       "      <td>...</td>\n",
       "    </tr>\n",
       "    <tr>\n",
       "      <th>149</th>\n",
       "      <td>Venezuela</td>\n",
       "      <td>2120</td>\n",
       "    </tr>\n",
       "    <tr>\n",
       "      <th>150</th>\n",
       "      <td>Vietnam</td>\n",
       "      <td>3025</td>\n",
       "    </tr>\n",
       "    <tr>\n",
       "      <th>151</th>\n",
       "      <td>Yemen</td>\n",
       "      <td>2154</td>\n",
       "    </tr>\n",
       "    <tr>\n",
       "      <th>152</th>\n",
       "      <td>Zambia</td>\n",
       "      <td>2002</td>\n",
       "    </tr>\n",
       "    <tr>\n",
       "      <th>153</th>\n",
       "      <td>Zimbabwe</td>\n",
       "      <td>1908</td>\n",
       "    </tr>\n",
       "  </tbody>\n",
       "</table>\n",
       "<p>154 rows × 2 columns</p>\n",
       "</div>"
      ],
      "text/plain": [
       "                 country  daily calories (2018)\n",
       "0                Albania                   3360\n",
       "1                Algeria                   3322\n",
       "2                 Angola                   2385\n",
       "3    Antigua and Barbuda                   2445\n",
       "4              Argentina                   3307\n",
       "..                   ...                    ...\n",
       "149            Venezuela                   2120\n",
       "150              Vietnam                   3025\n",
       "151                Yemen                   2154\n",
       "152               Zambia                   2002\n",
       "153             Zimbabwe                   1908\n",
       "\n",
       "[154 rows x 2 columns]"
      ]
     },
     "execution_count": 5,
     "metadata": {},
     "output_type": "execute_result"
    }
   ],
   "source": [
    "fsle_df"
   ]
  },
  {
   "cell_type": "code",
   "execution_count": null,
   "id": "accdb034",
   "metadata": {},
   "outputs": [],
   "source": [
    "fsle_df = fsle_df[fsle_df['Year']==2018]\n",
    "fsle_df"
   ]
  },
  {
   "cell_type": "code",
   "execution_count": null,
   "id": "6b281bf2",
   "metadata": {},
   "outputs": [],
   "source": [
    "# Open the master list of countries\n",
    "countries_df = pd.read_csv('../master_country_list/country_profile_urls.csv')\n",
    "countries_df = countries_df.drop(['profile_url'], 1)"
   ]
  },
  {
   "cell_type": "code",
   "execution_count": null,
   "id": "634f78e1",
   "metadata": {},
   "outputs": [],
   "source": [
    "country_list = countries_df['country'].tolist()\n",
    "country_list"
   ]
  },
  {
   "cell_type": "code",
   "execution_count": null,
   "id": "1c80fd0a",
   "metadata": {},
   "outputs": [],
   "source": [
    "# Create a list of Food Supply countries\n",
    "fs_countries = fsle_df['Entity'].tolist()\n",
    "fs_countries"
   ]
  },
  {
   "cell_type": "code",
   "execution_count": null,
   "id": "ebba65f8",
   "metadata": {},
   "outputs": [],
   "source": [
    "# clean the FS data based on the SS country list\n",
    "no_match = []\n",
    "\n",
    "for country in fs_countries:\n",
    "    if country in country_list:\n",
    "        continue\n",
    "    else:\n",
    "        no_match.append(country)"
   ]
  },
  {
   "cell_type": "code",
   "execution_count": null,
   "id": "e4ff7f94",
   "metadata": {
    "scrolled": false
   },
   "outputs": [],
   "source": [
    "# Likely need to do manual country name clean-up for accented characters and abbreviations.\n",
    "no_match"
   ]
  },
  {
   "cell_type": "code",
   "execution_count": 7,
   "id": "e224bfd9",
   "metadata": {},
   "outputs": [
    {
     "data": {
      "text/html": [
       "<div>\n",
       "<style scoped>\n",
       "    .dataframe tbody tr th:only-of-type {\n",
       "        vertical-align: middle;\n",
       "    }\n",
       "\n",
       "    .dataframe tbody tr th {\n",
       "        vertical-align: top;\n",
       "    }\n",
       "\n",
       "    .dataframe thead th {\n",
       "        text-align: right;\n",
       "    }\n",
       "</style>\n",
       "<table border=\"1\" class=\"dataframe\">\n",
       "  <thead>\n",
       "    <tr style=\"text-align: right;\">\n",
       "      <th></th>\n",
       "      <th>country</th>\n",
       "      <th>daily calories (2018)</th>\n",
       "    </tr>\n",
       "  </thead>\n",
       "  <tbody>\n",
       "    <tr>\n",
       "      <th>0</th>\n",
       "      <td>Albania</td>\n",
       "      <td>3360</td>\n",
       "    </tr>\n",
       "    <tr>\n",
       "      <th>1</th>\n",
       "      <td>Algeria</td>\n",
       "      <td>3322</td>\n",
       "    </tr>\n",
       "    <tr>\n",
       "      <th>2</th>\n",
       "      <td>Angola</td>\n",
       "      <td>2385</td>\n",
       "    </tr>\n",
       "    <tr>\n",
       "      <th>3</th>\n",
       "      <td>Antigua and Barbuda</td>\n",
       "      <td>2445</td>\n",
       "    </tr>\n",
       "    <tr>\n",
       "      <th>4</th>\n",
       "      <td>Argentina</td>\n",
       "      <td>3307</td>\n",
       "    </tr>\n",
       "    <tr>\n",
       "      <th>...</th>\n",
       "      <td>...</td>\n",
       "      <td>...</td>\n",
       "    </tr>\n",
       "    <tr>\n",
       "      <th>149</th>\n",
       "      <td>Venezuela</td>\n",
       "      <td>2120</td>\n",
       "    </tr>\n",
       "    <tr>\n",
       "      <th>150</th>\n",
       "      <td>Vietnam</td>\n",
       "      <td>3025</td>\n",
       "    </tr>\n",
       "    <tr>\n",
       "      <th>151</th>\n",
       "      <td>Yemen</td>\n",
       "      <td>2154</td>\n",
       "    </tr>\n",
       "    <tr>\n",
       "      <th>152</th>\n",
       "      <td>Zambia</td>\n",
       "      <td>2002</td>\n",
       "    </tr>\n",
       "    <tr>\n",
       "      <th>153</th>\n",
       "      <td>Zimbabwe</td>\n",
       "      <td>1908</td>\n",
       "    </tr>\n",
       "  </tbody>\n",
       "</table>\n",
       "<p>154 rows × 2 columns</p>\n",
       "</div>"
      ],
      "text/plain": [
       "                 country  daily calories (2018)\n",
       "0                Albania                   3360\n",
       "1                Algeria                   3322\n",
       "2                 Angola                   2385\n",
       "3    Antigua and Barbuda                   2445\n",
       "4              Argentina                   3307\n",
       "..                   ...                    ...\n",
       "149            Venezuela                   2120\n",
       "150              Vietnam                   3025\n",
       "151                Yemen                   2154\n",
       "152               Zambia                   2002\n",
       "153             Zimbabwe                   1908\n",
       "\n",
       "[154 rows x 2 columns]"
      ]
     },
     "execution_count": 7,
     "metadata": {},
     "output_type": "execute_result"
    }
   ],
   "source": [
    "fsle_clean_df = fsle_df.dropna()\n",
    "fsle_clean_df"
   ]
  },
  {
   "cell_type": "code",
   "execution_count": 8,
   "id": "831022f4",
   "metadata": {},
   "outputs": [],
   "source": [
    "fsle_clean_df.to_csv('food_supply_life_expectancy.csv', index=False)"
   ]
  },
  {
   "cell_type": "code",
   "execution_count": null,
   "id": "8a3c8b11",
   "metadata": {},
   "outputs": [],
   "source": []
  },
  {
   "cell_type": "code",
   "execution_count": null,
   "id": "5fd5d70c",
   "metadata": {},
   "outputs": [],
   "source": [
    "#fsle_clean_transform_df = fsle_clean_df.set_index('Entity').T\n",
    "#fsle_clean_transform_df"
   ]
  },
  {
   "cell_type": "code",
   "execution_count": null,
   "id": "95bc621c",
   "metadata": {},
   "outputs": [],
   "source": [
    "#fsle_clean_transform_df.to_csv('food_supply_life_expectancy_transform.csv')"
   ]
  },
  {
   "cell_type": "code",
   "execution_count": null,
   "id": "a1426540",
   "metadata": {},
   "outputs": [],
   "source": []
  }
 ],
 "metadata": {
  "kernelspec": {
   "display_name": "ml2",
   "language": "python",
   "name": "ml2"
  },
  "language_info": {
   "codemirror_mode": {
    "name": "ipython",
    "version": 3
   },
   "file_extension": ".py",
   "mimetype": "text/x-python",
   "name": "python",
   "nbconvert_exporter": "python",
   "pygments_lexer": "ipython3",
   "version": "3.9.15"
  }
 },
 "nbformat": 4,
 "nbformat_minor": 5
}
